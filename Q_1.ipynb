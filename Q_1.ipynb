{
 "cells": [
  {
   "cell_type": "markdown",
   "id": "2f16d477-7e5a-4c2a-acc8-39a2f9151e30",
   "metadata": {},
   "source": [
    "# Q1\n",
    "### https://raw.githubusercontent.com/justmarkham/DAT8/master/data/u.user Dataset"
   ]
  },
  {
   "cell_type": "code",
   "execution_count": 17,
   "id": "6bfb96b5-eaf5-4e42-ba2f-86adf99fe5b2",
   "metadata": {},
   "outputs": [
    {
     "data": {
      "text/html": [
       "<div>\n",
       "<style scoped>\n",
       "    .dataframe tbody tr th:only-of-type {\n",
       "        vertical-align: middle;\n",
       "    }\n",
       "\n",
       "    .dataframe tbody tr th {\n",
       "        vertical-align: top;\n",
       "    }\n",
       "\n",
       "    .dataframe thead th {\n",
       "        text-align: right;\n",
       "    }\n",
       "</style>\n",
       "<table border=\"1\" class=\"dataframe\">\n",
       "  <thead>\n",
       "    <tr style=\"text-align: right;\">\n",
       "      <th></th>\n",
       "      <th>user_id</th>\n",
       "      <th>age</th>\n",
       "      <th>gender</th>\n",
       "      <th>occupation</th>\n",
       "      <th>zip_code</th>\n",
       "    </tr>\n",
       "  </thead>\n",
       "  <tbody>\n",
       "    <tr>\n",
       "      <th>0</th>\n",
       "      <td>1</td>\n",
       "      <td>24</td>\n",
       "      <td>M</td>\n",
       "      <td>technician</td>\n",
       "      <td>85711</td>\n",
       "    </tr>\n",
       "    <tr>\n",
       "      <th>1</th>\n",
       "      <td>2</td>\n",
       "      <td>53</td>\n",
       "      <td>F</td>\n",
       "      <td>other</td>\n",
       "      <td>94043</td>\n",
       "    </tr>\n",
       "    <tr>\n",
       "      <th>2</th>\n",
       "      <td>3</td>\n",
       "      <td>23</td>\n",
       "      <td>M</td>\n",
       "      <td>writer</td>\n",
       "      <td>32067</td>\n",
       "    </tr>\n",
       "    <tr>\n",
       "      <th>3</th>\n",
       "      <td>4</td>\n",
       "      <td>24</td>\n",
       "      <td>M</td>\n",
       "      <td>technician</td>\n",
       "      <td>43537</td>\n",
       "    </tr>\n",
       "    <tr>\n",
       "      <th>4</th>\n",
       "      <td>5</td>\n",
       "      <td>33</td>\n",
       "      <td>F</td>\n",
       "      <td>other</td>\n",
       "      <td>15213</td>\n",
       "    </tr>\n",
       "  </tbody>\n",
       "</table>\n",
       "</div>"
      ],
      "text/plain": [
       "   user_id  age gender  occupation zip_code\n",
       "0        1   24      M  technician    85711\n",
       "1        2   53      F       other    94043\n",
       "2        3   23      M      writer    32067\n",
       "3        4   24      M  technician    43537\n",
       "4        5   33      F       other    15213"
      ]
     },
     "execution_count": 17,
     "metadata": {},
     "output_type": "execute_result"
    }
   ],
   "source": [
    "import pandas as pd\n",
    "\n",
    "users_dataframe = pd.read_csv(\"https://raw.githubusercontent.com/justmarkham/DAT8/master/data/u.user\", sep='|')\n",
    "users_dataframe.head()"
   ]
  },
  {
   "cell_type": "markdown",
   "id": "da62a51c-62ea-4d3a-9735-e3e323674bde",
   "metadata": {},
   "source": [
    "#### Mean Age Per Occupation"
   ]
  },
  {
   "cell_type": "code",
   "execution_count": 18,
   "id": "09fe99aa-0f33-4b32-80b8-d65ccc749064",
   "metadata": {},
   "outputs": [
    {
     "name": "stdout",
     "output_type": "stream",
     "text": [
      "Occuparion - Mean Age -> \n",
      " occupation\n",
      "administrator    38.746835\n",
      "artist           31.392857\n",
      "doctor           43.571429\n",
      "educator         42.010526\n",
      "engineer         36.388060\n",
      "entertainment    29.222222\n",
      "executive        38.718750\n",
      "healthcare       41.562500\n",
      "homemaker        32.571429\n",
      "lawyer           36.750000\n",
      "librarian        40.000000\n",
      "marketing        37.615385\n",
      "none             26.555556\n",
      "other            34.523810\n",
      "programmer       33.121212\n",
      "retired          63.071429\n",
      "salesman         35.666667\n",
      "scientist        35.548387\n",
      "student          22.081633\n",
      "technician       33.148148\n",
      "writer           36.311111\n",
      "Name: age, dtype: float64\n"
     ]
    }
   ],
   "source": [
    "mean_age_per_occupation = users_dataframe.groupby('occupation')['age'].mean()\n",
    "print(\"Occuparion - Mean Age -> \\n\", mean_age_per_occupation)"
   ]
  },
  {
   "cell_type": "markdown",
   "id": "e75475d4-3123-4698-8bc1-34ff8cd0b6a7",
   "metadata": {},
   "source": [
    "#### Male ratio per occupation"
   ]
  },
  {
   "cell_type": "code",
   "execution_count": 22,
   "id": "443c81c9-a718-4587-90c2-1e073eefdd38",
   "metadata": {},
   "outputs": [
    {
     "name": "stdout",
     "output_type": "stream",
     "text": [
      "Male Ratio Per Occupation (Sorted from most to least) -> \n",
      " occupation\n",
      "doctor           1.000000\n",
      "engineer         0.970149\n",
      "technician       0.962963\n",
      "retired          0.928571\n",
      "programmer       0.909091\n",
      "executive        0.906250\n",
      "scientist        0.903226\n",
      "entertainment    0.888889\n",
      "lawyer           0.833333\n",
      "salesman         0.750000\n",
      "educator         0.726316\n",
      "student          0.693878\n",
      "other            0.657143\n",
      "marketing        0.615385\n",
      "writer           0.577778\n",
      "none             0.555556\n",
      "administrator    0.544304\n",
      "artist           0.535714\n",
      "librarian        0.431373\n",
      "healthcare       0.312500\n",
      "homemaker        0.142857\n",
      "Name: male_ratio, dtype: float64\n"
     ]
    }
   ],
   "source": [
    "\n",
    "male_ratio_per_occupation = users_dataframe.pivot_table(index='occupation', columns='gender', aggfunc='size', fill_value=0)\n",
    "\n",
    "male_ratio_per_occupation['male_ratio'] = male_ratio_per_occupation['M'] / (\n",
    "    male_ratio_per_occupation['M'] + male_ratio_per_occupation['F']\n",
    ")\n",
    "\n",
    "male_ratio_per_occupation_sorted = male_ratio_per_occupation['male_ratio'].sort_values(ascending=False)\n",
    "\n",
    "print(\"Male Ratio Per Occupation (Sorted from most to least) -> \\n\", male_ratio_per_occupation_sorted)"
   ]
  },
  {
   "cell_type": "markdown",
   "id": "fd3fd03c-3d6f-4dbc-9064-0d77ec2a9a3f",
   "metadata": {},
   "source": [
    "#### Calculate the minimum and maximum ages"
   ]
  },
  {
   "cell_type": "code",
   "execution_count": 23,
   "id": "077c78f1-f52c-4bfa-b8ec-211b095bb044",
   "metadata": {},
   "outputs": [
    {
     "name": "stdout",
     "output_type": "stream",
     "text": [
      "Min & Max Ages Per Occupation ->                 min  max\n",
      "occupation             \n",
      "administrator   21   70\n",
      "artist          19   48\n",
      "doctor          28   64\n",
      "educator        23   63\n",
      "engineer        22   70\n",
      "entertainment   15   50\n",
      "executive       22   69\n",
      "healthcare      22   62\n",
      "homemaker       20   50\n",
      "lawyer          21   53\n",
      "librarian       23   69\n",
      "marketing       24   55\n",
      "none            11   55\n",
      "other           13   64\n",
      "programmer      20   63\n",
      "retired         51   73\n",
      "salesman        18   66\n",
      "scientist       23   55\n",
      "student          7   42\n",
      "technician      21   55\n",
      "writer          18   60\n"
     ]
    }
   ],
   "source": [
    "min_max_age_per_occupation = users_dataframe.groupby(\n",
    "    'occupation')['age'].agg(\n",
    "    ['min', 'max']\n",
    ")\n",
    "\n",
    "print(\"Min & Max Ages Per Occupation -> \", min_max_age_per_occupation)"
   ]
  },
  {
   "cell_type": "markdown",
   "id": "54772cb1-aadf-47fa-85b9-f756352fc23a",
   "metadata": {},
   "source": [
    "#### Calculate the mean age for each combination of occupation and sex"
   ]
  },
  {
   "cell_type": "code",
   "execution_count": 24,
   "id": "3e5532bf-1d54-44df-894d-9da032608e37",
   "metadata": {},
   "outputs": [
    {
     "name": "stdout",
     "output_type": "stream",
     "text": [
      "Mean Age Per Occupation & Sex -> \n",
      " occupation     gender\n",
      "administrator  F         40.638889\n",
      "               M         37.162791\n",
      "artist         F         30.307692\n",
      "               M         32.333333\n",
      "doctor         M         43.571429\n",
      "educator       F         39.115385\n",
      "               M         43.101449\n",
      "engineer       F         29.500000\n",
      "               M         36.600000\n",
      "entertainment  F         31.000000\n",
      "               M         29.000000\n",
      "executive      F         44.000000\n",
      "               M         38.172414\n",
      "healthcare     F         39.818182\n",
      "               M         45.400000\n",
      "homemaker      F         34.166667\n",
      "               M         23.000000\n",
      "lawyer         F         39.500000\n",
      "               M         36.200000\n",
      "librarian      F         40.000000\n",
      "               M         40.000000\n",
      "marketing      F         37.200000\n",
      "               M         37.875000\n",
      "none           F         36.500000\n",
      "               M         18.600000\n",
      "other          F         35.472222\n",
      "               M         34.028986\n",
      "programmer     F         32.166667\n",
      "               M         33.216667\n",
      "retired        F         70.000000\n",
      "               M         62.538462\n",
      "salesman       F         27.000000\n",
      "               M         38.555556\n",
      "scientist      F         28.333333\n",
      "               M         36.321429\n",
      "student        F         20.750000\n",
      "               M         22.669118\n",
      "technician     F         38.000000\n",
      "               M         32.961538\n",
      "writer         F         37.631579\n",
      "               M         35.346154\n",
      "Name: age, dtype: float64\n"
     ]
    }
   ],
   "source": [
    "mean_age_per_occupation_sex = users.groupby(\n",
    "    ['occupation', 'gender']\n",
    ")['age'].mean()\n",
    "\n",
    "print(\"Mean Age Per Occupation & Sex -> \\n\", mean_age_per_occupation_sex)"
   ]
  },
  {
   "cell_type": "markdown",
   "id": "64bc2437-9bcd-49cb-93bd-bd67029a6b3e",
   "metadata": {},
   "source": [
    "#### The percentage of women and men for each occupation"
   ]
  },
  {
   "cell_type": "code",
   "execution_count": 25,
   "id": "1cdefed6-e425-4d02-b408-6dfabfef1caa",
   "metadata": {},
   "outputs": [
    {
     "name": "stdout",
     "output_type": "stream",
     "text": [
      "Percent Women & Men Per Occupation -> \n",
      " occupation     gender\n",
      "administrator  F          45.569620\n",
      "               M          54.430380\n",
      "artist         F          46.428571\n",
      "               M          53.571429\n",
      "doctor         M         100.000000\n",
      "educator       F          27.368421\n",
      "               M          72.631579\n",
      "engineer       F           2.985075\n",
      "               M          97.014925\n",
      "entertainment  F          11.111111\n",
      "               M          88.888889\n",
      "executive      F           9.375000\n",
      "               M          90.625000\n",
      "healthcare     F          68.750000\n",
      "               M          31.250000\n",
      "homemaker      F          85.714286\n",
      "               M          14.285714\n",
      "lawyer         F          16.666667\n",
      "               M          83.333333\n",
      "librarian      F          56.862745\n",
      "               M          43.137255\n",
      "marketing      F          38.461538\n",
      "               M          61.538462\n",
      "none           F          44.444444\n",
      "               M          55.555556\n",
      "other          F          34.285714\n",
      "               M          65.714286\n",
      "programmer     F           9.090909\n",
      "               M          90.909091\n",
      "retired        F           7.142857\n",
      "               M          92.857143\n",
      "salesman       F          25.000000\n",
      "               M          75.000000\n",
      "scientist      F           9.677419\n",
      "               M          90.322581\n",
      "student        F          30.612245\n",
      "               M          69.387755\n",
      "technician     F           3.703704\n",
      "               M          96.296296\n",
      "writer         F          42.222222\n",
      "               M          57.777778\n",
      "dtype: float64\n"
     ]
    }
   ],
   "source": [
    "total_count_per_occupation = users_dataframe.groupby('occupation')['gender'].count()\n",
    "\n",
    "gender_distribution_per_occupation = users_dataframe.groupby(\n",
    "    ['occupation', 'gender']\n",
    ").size() / total_count_per_occupation * 100\n",
    "\n",
    "print(\"Percent Women & Men Per Occupation -> \\n\", gender_distribution_per_occupation)"
   ]
  },
  {
   "cell_type": "code",
   "execution_count": null,
   "id": "11fe85c6-22c4-4ef8-932b-d1c5b09e91a6",
   "metadata": {},
   "outputs": [],
   "source": []
  }
 ],
 "metadata": {
  "kernelspec": {
   "display_name": "Python 3 (ipykernel)",
   "language": "python",
   "name": "python3"
  },
  "language_info": {
   "codemirror_mode": {
    "name": "ipython",
    "version": 3
   },
   "file_extension": ".py",
   "mimetype": "text/x-python",
   "name": "python",
   "nbconvert_exporter": "python",
   "pygments_lexer": "ipython3",
   "version": "3.11.7"
  }
 },
 "nbformat": 4,
 "nbformat_minor": 5
}
