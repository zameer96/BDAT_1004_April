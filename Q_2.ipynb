{
 "cells": [
  {
   "cell_type": "markdown",
   "id": "ad205fa1-c5c2-4fe3-89da-f3fa6a80a5df",
   "metadata": {},
   "source": [
    "## Question 2 Euto Teams"
   ]
  },
  {
   "cell_type": "markdown",
   "id": "8fc4a54f-4646-4a57-a723-ba08373d019f",
   "metadata": {},
   "source": [
    "#### 1. Import Libraries\n",
    "#### 2. Load dataset\n",
    "#### 3. Assign it to a variable called euro12"
   ]
  },
  {
   "cell_type": "code",
   "execution_count": 28,
   "id": "06cbba98-a776-4698-9be5-189101d19eb6",
   "metadata": {},
   "outputs": [
    {
     "data": {
      "text/html": [
       "<div>\n",
       "<style scoped>\n",
       "    .dataframe tbody tr th:only-of-type {\n",
       "        vertical-align: middle;\n",
       "    }\n",
       "\n",
       "    .dataframe tbody tr th {\n",
       "        vertical-align: top;\n",
       "    }\n",
       "\n",
       "    .dataframe thead th {\n",
       "        text-align: right;\n",
       "    }\n",
       "</style>\n",
       "<table border=\"1\" class=\"dataframe\">\n",
       "  <thead>\n",
       "    <tr style=\"text-align: right;\">\n",
       "      <th></th>\n",
       "      <th>Team</th>\n",
       "      <th>Goals</th>\n",
       "      <th>Shots on target</th>\n",
       "      <th>Shots off target</th>\n",
       "      <th>Shooting Accuracy</th>\n",
       "      <th>% Goals-to-shots</th>\n",
       "      <th>Total shots (inc. Blocked)</th>\n",
       "      <th>Hit Woodwork</th>\n",
       "      <th>Penalty goals</th>\n",
       "      <th>Penalties not scored</th>\n",
       "      <th>...</th>\n",
       "      <th>Saves made</th>\n",
       "      <th>Saves-to-shots ratio</th>\n",
       "      <th>Fouls Won</th>\n",
       "      <th>Fouls Conceded</th>\n",
       "      <th>Offsides</th>\n",
       "      <th>Yellow Cards</th>\n",
       "      <th>Red Cards</th>\n",
       "      <th>Subs on</th>\n",
       "      <th>Subs off</th>\n",
       "      <th>Players Used</th>\n",
       "    </tr>\n",
       "  </thead>\n",
       "  <tbody>\n",
       "    <tr>\n",
       "      <th>0</th>\n",
       "      <td>Croatia</td>\n",
       "      <td>4</td>\n",
       "      <td>13</td>\n",
       "      <td>12</td>\n",
       "      <td>51.9%</td>\n",
       "      <td>16.0%</td>\n",
       "      <td>32</td>\n",
       "      <td>0</td>\n",
       "      <td>0</td>\n",
       "      <td>0</td>\n",
       "      <td>...</td>\n",
       "      <td>13</td>\n",
       "      <td>81.3%</td>\n",
       "      <td>41</td>\n",
       "      <td>62</td>\n",
       "      <td>2</td>\n",
       "      <td>9</td>\n",
       "      <td>0</td>\n",
       "      <td>9</td>\n",
       "      <td>9</td>\n",
       "      <td>16</td>\n",
       "    </tr>\n",
       "    <tr>\n",
       "      <th>1</th>\n",
       "      <td>Czech Republic</td>\n",
       "      <td>4</td>\n",
       "      <td>13</td>\n",
       "      <td>18</td>\n",
       "      <td>41.9%</td>\n",
       "      <td>12.9%</td>\n",
       "      <td>39</td>\n",
       "      <td>0</td>\n",
       "      <td>0</td>\n",
       "      <td>0</td>\n",
       "      <td>...</td>\n",
       "      <td>9</td>\n",
       "      <td>60.1%</td>\n",
       "      <td>53</td>\n",
       "      <td>73</td>\n",
       "      <td>8</td>\n",
       "      <td>7</td>\n",
       "      <td>0</td>\n",
       "      <td>11</td>\n",
       "      <td>11</td>\n",
       "      <td>19</td>\n",
       "    </tr>\n",
       "    <tr>\n",
       "      <th>2</th>\n",
       "      <td>Denmark</td>\n",
       "      <td>4</td>\n",
       "      <td>10</td>\n",
       "      <td>10</td>\n",
       "      <td>50.0%</td>\n",
       "      <td>20.0%</td>\n",
       "      <td>27</td>\n",
       "      <td>1</td>\n",
       "      <td>0</td>\n",
       "      <td>0</td>\n",
       "      <td>...</td>\n",
       "      <td>10</td>\n",
       "      <td>66.7%</td>\n",
       "      <td>25</td>\n",
       "      <td>38</td>\n",
       "      <td>8</td>\n",
       "      <td>4</td>\n",
       "      <td>0</td>\n",
       "      <td>7</td>\n",
       "      <td>7</td>\n",
       "      <td>15</td>\n",
       "    </tr>\n",
       "    <tr>\n",
       "      <th>3</th>\n",
       "      <td>England</td>\n",
       "      <td>5</td>\n",
       "      <td>11</td>\n",
       "      <td>18</td>\n",
       "      <td>50.0%</td>\n",
       "      <td>17.2%</td>\n",
       "      <td>40</td>\n",
       "      <td>0</td>\n",
       "      <td>0</td>\n",
       "      <td>0</td>\n",
       "      <td>...</td>\n",
       "      <td>22</td>\n",
       "      <td>88.1%</td>\n",
       "      <td>43</td>\n",
       "      <td>45</td>\n",
       "      <td>6</td>\n",
       "      <td>5</td>\n",
       "      <td>0</td>\n",
       "      <td>11</td>\n",
       "      <td>11</td>\n",
       "      <td>16</td>\n",
       "    </tr>\n",
       "    <tr>\n",
       "      <th>4</th>\n",
       "      <td>France</td>\n",
       "      <td>3</td>\n",
       "      <td>22</td>\n",
       "      <td>24</td>\n",
       "      <td>37.9%</td>\n",
       "      <td>6.5%</td>\n",
       "      <td>65</td>\n",
       "      <td>1</td>\n",
       "      <td>0</td>\n",
       "      <td>0</td>\n",
       "      <td>...</td>\n",
       "      <td>6</td>\n",
       "      <td>54.6%</td>\n",
       "      <td>36</td>\n",
       "      <td>51</td>\n",
       "      <td>5</td>\n",
       "      <td>6</td>\n",
       "      <td>0</td>\n",
       "      <td>11</td>\n",
       "      <td>11</td>\n",
       "      <td>19</td>\n",
       "    </tr>\n",
       "  </tbody>\n",
       "</table>\n",
       "<p>5 rows × 35 columns</p>\n",
       "</div>"
      ],
      "text/plain": [
       "             Team  Goals  Shots on target  Shots off target Shooting Accuracy  \\\n",
       "0         Croatia      4               13                12             51.9%   \n",
       "1  Czech Republic      4               13                18             41.9%   \n",
       "2         Denmark      4               10                10             50.0%   \n",
       "3         England      5               11                18             50.0%   \n",
       "4          France      3               22                24             37.9%   \n",
       "\n",
       "  % Goals-to-shots  Total shots (inc. Blocked)  Hit Woodwork  Penalty goals  \\\n",
       "0            16.0%                          32             0              0   \n",
       "1            12.9%                          39             0              0   \n",
       "2            20.0%                          27             1              0   \n",
       "3            17.2%                          40             0              0   \n",
       "4             6.5%                          65             1              0   \n",
       "\n",
       "   Penalties not scored  ...  Saves made  Saves-to-shots ratio  Fouls Won  \\\n",
       "0                     0  ...          13                 81.3%         41   \n",
       "1                     0  ...           9                 60.1%         53   \n",
       "2                     0  ...          10                 66.7%         25   \n",
       "3                     0  ...          22                 88.1%         43   \n",
       "4                     0  ...           6                 54.6%         36   \n",
       "\n",
       "  Fouls Conceded  Offsides  Yellow Cards  Red Cards  Subs on  Subs off  \\\n",
       "0             62         2             9          0        9         9   \n",
       "1             73         8             7          0       11        11   \n",
       "2             38         8             4          0        7         7   \n",
       "3             45         6             5          0       11        11   \n",
       "4             51         5             6          0       11        11   \n",
       "\n",
       "   Players Used  \n",
       "0            16  \n",
       "1            19  \n",
       "2            15  \n",
       "3            16  \n",
       "4            19  \n",
       "\n",
       "[5 rows x 35 columns]"
      ]
     },
     "execution_count": 28,
     "metadata": {},
     "output_type": "execute_result"
    }
   ],
   "source": [
    "import pandas as pd\n",
    "dataset_url = \"https://raw.githubusercontent.com/guipsamora/pandas_exercises/master/02_Filtering_%26_Sorting/Euro12/Euro_2012_stats_TEAM.csv\"\n",
    "euro12 = pd.read_csv(dataset_url)\n",
    "euro12.head()"
   ]
  },
  {
   "cell_type": "markdown",
   "id": "a40e7149-fa72-4e05-87bc-6f15f3064c60",
   "metadata": {},
   "source": [
    "#### 4. Select only the Goal column\n",
    "#### 5. How many team participated in the Euro2012?\n"
   ]
  },
  {
   "cell_type": "code",
   "execution_count": 30,
   "id": "8322b2c0-72cd-43ea-ac86-b51dc899bdd3",
   "metadata": {},
   "outputs": [
    {
     "name": "stdout",
     "output_type": "stream",
     "text": [
      "Total teams in Euro2012 ->  16\n"
     ]
    }
   ],
   "source": [
    "goals = euro12['Goals']\n",
    "\n",
    "num_teams = euro12['Team'].nunique()\n",
    "print(\"Total teams in Euro2012 -> \", num_teams)"
   ]
  },
  {
   "cell_type": "markdown",
   "id": "2c4d26d9-7243-4e67-9cc9-cf056ac944f7",
   "metadata": {},
   "source": [
    "####  6. What is the number of columns in the dataset?"
   ]
  },
  {
   "cell_type": "code",
   "execution_count": 31,
   "id": "7b4c5eb4-39b6-4262-85da-2ec4913f3ca8",
   "metadata": {},
   "outputs": [
    {
     "name": "stdout",
     "output_type": "stream",
     "text": [
      "Total columns in the dataset ->  35\n"
     ]
    }
   ],
   "source": [
    "print(\"Total columns in the dataset -> \", euro12.shape[1])"
   ]
  },
  {
   "cell_type": "markdown",
   "id": "1f92d155-3092-4dbf-9c9d-ae9d744b7109",
   "metadata": {},
   "source": [
    "#### 7. View only the columns Team, Yellow Cards and Red Cards and assign them\n",
    "#### to a dataframe called discipline\n",
    "#### 8. Sort the teams by Red Cards, then to Yellow Cards"
   ]
  },
  {
   "cell_type": "code",
   "execution_count": 34,
   "id": "0747aff8-4d28-4e91-8a86-e5a3c634c86e",
   "metadata": {},
   "outputs": [
    {
     "data": {
      "text/html": [
       "<div>\n",
       "<style scoped>\n",
       "    .dataframe tbody tr th:only-of-type {\n",
       "        vertical-align: middle;\n",
       "    }\n",
       "\n",
       "    .dataframe tbody tr th {\n",
       "        vertical-align: top;\n",
       "    }\n",
       "\n",
       "    .dataframe thead th {\n",
       "        text-align: right;\n",
       "    }\n",
       "</style>\n",
       "<table border=\"1\" class=\"dataframe\">\n",
       "  <thead>\n",
       "    <tr style=\"text-align: right;\">\n",
       "      <th></th>\n",
       "      <th>Team</th>\n",
       "      <th>Yellow Cards</th>\n",
       "      <th>Red Cards</th>\n",
       "    </tr>\n",
       "  </thead>\n",
       "  <tbody>\n",
       "    <tr>\n",
       "      <th>6</th>\n",
       "      <td>Greece</td>\n",
       "      <td>9</td>\n",
       "      <td>1</td>\n",
       "    </tr>\n",
       "    <tr>\n",
       "      <th>9</th>\n",
       "      <td>Poland</td>\n",
       "      <td>7</td>\n",
       "      <td>1</td>\n",
       "    </tr>\n",
       "    <tr>\n",
       "      <th>11</th>\n",
       "      <td>Republic of Ireland</td>\n",
       "      <td>6</td>\n",
       "      <td>1</td>\n",
       "    </tr>\n",
       "    <tr>\n",
       "      <th>7</th>\n",
       "      <td>Italy</td>\n",
       "      <td>16</td>\n",
       "      <td>0</td>\n",
       "    </tr>\n",
       "    <tr>\n",
       "      <th>10</th>\n",
       "      <td>Portugal</td>\n",
       "      <td>12</td>\n",
       "      <td>0</td>\n",
       "    </tr>\n",
       "    <tr>\n",
       "      <th>13</th>\n",
       "      <td>Spain</td>\n",
       "      <td>11</td>\n",
       "      <td>0</td>\n",
       "    </tr>\n",
       "    <tr>\n",
       "      <th>0</th>\n",
       "      <td>Croatia</td>\n",
       "      <td>9</td>\n",
       "      <td>0</td>\n",
       "    </tr>\n",
       "    <tr>\n",
       "      <th>1</th>\n",
       "      <td>Czech Republic</td>\n",
       "      <td>7</td>\n",
       "      <td>0</td>\n",
       "    </tr>\n",
       "    <tr>\n",
       "      <th>14</th>\n",
       "      <td>Sweden</td>\n",
       "      <td>7</td>\n",
       "      <td>0</td>\n",
       "    </tr>\n",
       "    <tr>\n",
       "      <th>4</th>\n",
       "      <td>France</td>\n",
       "      <td>6</td>\n",
       "      <td>0</td>\n",
       "    </tr>\n",
       "    <tr>\n",
       "      <th>12</th>\n",
       "      <td>Russia</td>\n",
       "      <td>6</td>\n",
       "      <td>0</td>\n",
       "    </tr>\n",
       "    <tr>\n",
       "      <th>3</th>\n",
       "      <td>England</td>\n",
       "      <td>5</td>\n",
       "      <td>0</td>\n",
       "    </tr>\n",
       "    <tr>\n",
       "      <th>8</th>\n",
       "      <td>Netherlands</td>\n",
       "      <td>5</td>\n",
       "      <td>0</td>\n",
       "    </tr>\n",
       "    <tr>\n",
       "      <th>15</th>\n",
       "      <td>Ukraine</td>\n",
       "      <td>5</td>\n",
       "      <td>0</td>\n",
       "    </tr>\n",
       "    <tr>\n",
       "      <th>2</th>\n",
       "      <td>Denmark</td>\n",
       "      <td>4</td>\n",
       "      <td>0</td>\n",
       "    </tr>\n",
       "    <tr>\n",
       "      <th>5</th>\n",
       "      <td>Germany</td>\n",
       "      <td>4</td>\n",
       "      <td>0</td>\n",
       "    </tr>\n",
       "  </tbody>\n",
       "</table>\n",
       "</div>"
      ],
      "text/plain": [
       "                   Team  Yellow Cards  Red Cards\n",
       "6                Greece             9          1\n",
       "9                Poland             7          1\n",
       "11  Republic of Ireland             6          1\n",
       "7                 Italy            16          0\n",
       "10             Portugal            12          0\n",
       "13                Spain            11          0\n",
       "0               Croatia             9          0\n",
       "1        Czech Republic             7          0\n",
       "14               Sweden             7          0\n",
       "4                France             6          0\n",
       "12               Russia             6          0\n",
       "3               England             5          0\n",
       "8           Netherlands             5          0\n",
       "15              Ukraine             5          0\n",
       "2               Denmark             4          0\n",
       "5               Germany             4          0"
      ]
     },
     "execution_count": 34,
     "metadata": {},
     "output_type": "execute_result"
    }
   ],
   "source": [
    "selected_columns = euro12[['Team', 'Yellow Cards', 'Red Cards']]\n",
    "selected_columns_sorted = selected_columns.sort_values(by=['Red Cards', 'Yellow Cards'], ascending=False)\n",
    "selected_columns_sorted"
   ]
  },
  {
   "cell_type": "markdown",
   "id": "70297ea4-eb5c-4bf2-829f-d77ac91dcf49",
   "metadata": {},
   "source": [
    "#### 9. Calculate the mean Yellow Cards given per Team"
   ]
  },
  {
   "cell_type": "code",
   "execution_count": 35,
   "id": "f23015cd-e9a4-4f99-9a90-cda3ef120f47",
   "metadata": {},
   "outputs": [
    {
     "name": "stdout",
     "output_type": "stream",
     "text": [
      "Mean Yellow Cards ->  7.4375\n"
     ]
    }
   ],
   "source": [
    "mycs = euro12['Yellow Cards'].mean()\n",
    "print(\"Mean Yellow Cards -> \", mycs)"
   ]
  },
  {
   "cell_type": "markdown",
   "id": "0b8e05b3-5bc8-47cb-8051-c252db0b3932",
   "metadata": {},
   "source": [
    "#### Teams that scored more than 6 goals and only the Team and Goals columns"
   ]
  },
  {
   "cell_type": "code",
   "execution_count": 38,
   "id": "6e3cb21d-0f73-4a50-a7e2-08bec3cb3300",
   "metadata": {},
   "outputs": [
    {
     "name": "stdout",
     "output_type": "stream",
     "text": [
      "Teams with a goal total over six goals -> \n",
      "         Team  Goals\n",
      "5   Germany     10\n",
      "13    Spain     12\n"
     ]
    }
   ],
   "source": [
    "teams_more_than_6_goals = euro12.loc[euro12['Goals'] > 6, ['Team', 'Goals']]\n",
    "print(\"Teams with a goal total over six goals -> \\n \", teams_more_than_6_goals)"
   ]
  },
  {
   "cell_type": "code",
   "execution_count": 43,
   "id": "c1ba61a9-cc57-4a90-b985-46b150870751",
   "metadata": {},
   "outputs": [
    {
     "name": "stdout",
     "output_type": "stream",
     "text": [
      "Teams starting with G -> \n",
      " 5    Germany\n",
      "6     Greece\n",
      "Name: Team, dtype: object\n"
     ]
    }
   ],
   "source": [
    "# The team names start with G\n",
    "teams_starting_with_G = euro12.loc[euro12['Team'].str.startswith('G'), 'Team']\n",
    "print(\"Teams starting with G -> \\n\", teams_starting_with_G)"
   ]
  },
  {
   "cell_type": "code",
   "execution_count": 41,
   "id": "3067cd76-6a36-47f7-a85a-72ee9fd752f5",
   "metadata": {},
   "outputs": [
    {
     "name": "stdout",
     "output_type": "stream",
     "text": [
      "First 7 columns -> \n",
      "                    Team  Goals  Shots on target  Shots off target  \\\n",
      "0               Croatia      4               13                12   \n",
      "1        Czech Republic      4               13                18   \n",
      "2               Denmark      4               10                10   \n",
      "3               England      5               11                18   \n",
      "4                France      3               22                24   \n",
      "5               Germany     10               32                32   \n",
      "6                Greece      5                8                18   \n",
      "7                 Italy      6               34                45   \n",
      "8           Netherlands      2               12                36   \n",
      "9                Poland      2               15                23   \n",
      "10             Portugal      6               22                42   \n",
      "11  Republic of Ireland      1                7                12   \n",
      "12               Russia      5                9                31   \n",
      "13                Spain     12               42                33   \n",
      "14               Sweden      5               17                19   \n",
      "15              Ukraine      2                7                26   \n",
      "\n",
      "   Shooting Accuracy % Goals-to-shots  Total shots (inc. Blocked)  \n",
      "0              51.9%            16.0%                          32  \n",
      "1              41.9%            12.9%                          39  \n",
      "2              50.0%            20.0%                          27  \n",
      "3              50.0%            17.2%                          40  \n",
      "4              37.9%             6.5%                          65  \n",
      "5              47.8%            15.6%                          80  \n",
      "6              30.7%            19.2%                          32  \n",
      "7              43.0%             7.5%                         110  \n",
      "8              25.0%             4.1%                          60  \n",
      "9              39.4%             5.2%                          48  \n",
      "10             34.3%             9.3%                          82  \n",
      "11             36.8%             5.2%                          28  \n",
      "12             22.5%            12.5%                          59  \n",
      "13             55.9%            16.0%                         100  \n",
      "14             47.2%            13.8%                          39  \n",
      "15             21.2%             6.0%                          38  \n"
     ]
    }
   ],
   "source": [
    "# First seven columns\n",
    "first_7_col = euro12.iloc[:, :7]\n",
    "print(\"First 7 columns -> \\n\", first_7_col)"
   ]
  },
  {
   "cell_type": "code",
   "execution_count": null,
   "id": "b929909b-3a43-463c-849d-52c95940aa07",
   "metadata": {},
   "outputs": [],
   "source": []
  }
 ],
 "metadata": {
  "kernelspec": {
   "display_name": "Python 3 (ipykernel)",
   "language": "python",
   "name": "python3"
  },
  "language_info": {
   "codemirror_mode": {
    "name": "ipython",
    "version": 3
   },
   "file_extension": ".py",
   "mimetype": "text/x-python",
   "name": "python",
   "nbconvert_exporter": "python",
   "pygments_lexer": "ipython3",
   "version": "3.11.7"
  }
 },
 "nbformat": 4,
 "nbformat_minor": 5
}
