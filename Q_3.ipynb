{
 "cells": [
  {
   "cell_type": "raw",
   "id": "dd0866c5-257f-4c36-8e21-45959be4d429",
   "metadata": {},
   "source": []
  },
  {
   "cell_type": "code",
   "execution_count": 4,
   "id": "b3b63c17-d0a3-405f-8588-fb7e33f270a5",
   "metadata": {},
   "outputs": [
    {
     "name": "stdout",
     "output_type": "stream",
     "text": [
      "0         4\n",
      "1         4\n",
      "2         4\n",
      "3         2\n",
      "4         3\n",
      "      ...  \n",
      "95    28029\n",
      "96    14660\n",
      "97    22493\n",
      "98    25666\n",
      "99    28990\n",
      "Length: 300, dtype: int64\n",
      "Going to only until 99: True\n"
     ]
    }
   ],
   "source": [
    "import pandas as pd\n",
    "import numpy as np\n",
    "\n",
    "series1 = pd.Series(np.random.randint(1, 5, size=100))\n",
    "series2 = pd.Series(np.random.randint(1, 4, size=100))\n",
    "series3 = pd.Series(np.random.randint(10000, 30001, size=100))\n",
    "\n",
    "df = pd.concat([series1, series2, series3], axis=1)\n",
    "\n",
    "# Change the name of the columns\n",
    "df.columns = ['bedrs', 'bathrs', 'price_sqr_meter']\n",
    "\n",
    "# Made a one-column df with the values of the 3 Series and assigned it to 'bigcolumn'\n",
    "bigcolumn = pd.concat([series1, series2, series3])\n",
    "print(bigcolumn)\n",
    "print(\"Going to only until 99:\", bigcolumn.index.max() == 99)"
   ]
  },
  {
   "cell_type": "code",
   "execution_count": 5,
   "id": "189cf649-bd6e-4df5-b0e3-4b58f65e9289",
   "metadata": {},
   "outputs": [
    {
     "name": "stdout",
     "output_type": "stream",
     "text": [
      "DataFrame 'bigcolumn' after reindexing -> \n",
      "0          4\n",
      "1          4\n",
      "2          4\n",
      "3          2\n",
      "4          3\n",
      "       ...  \n",
      "295    28029\n",
      "296    14660\n",
      "297    22493\n",
      "298    25666\n",
      "299    28990\n",
      "Length: 300, dtype: int64\n"
     ]
    }
   ],
   "source": [
    "bigcolumn.reset_index(drop=True, inplace=True)\n",
    "print(\"DataFrame 'bigcolumn' after reindexing -> \")\n",
    "print(bigcolumn)"
   ]
  },
  {
   "cell_type": "code",
   "execution_count": null,
   "id": "89da574a-df2a-485e-ac82-5613fbd82655",
   "metadata": {},
   "outputs": [],
   "source": []
  }
 ],
 "metadata": {
  "kernelspec": {
   "display_name": "Python 3 (ipykernel)",
   "language": "python",
   "name": "python3"
  },
  "language_info": {
   "codemirror_mode": {
    "name": "ipython",
    "version": 3
   },
   "file_extension": ".py",
   "mimetype": "text/x-python",
   "name": "python",
   "nbconvert_exporter": "python",
   "pygments_lexer": "ipython3",
   "version": "3.11.7"
  }
 },
 "nbformat": 4,
 "nbformat_minor": 5
}
